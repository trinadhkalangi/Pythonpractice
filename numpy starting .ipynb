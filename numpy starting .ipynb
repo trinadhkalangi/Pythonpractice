{
 "cells": [
  {
   "cell_type": "markdown",
   "metadata": {},
   "source": [
    "# Numpy ndarray basics\n"
   ]
  },
  {
   "cell_type": "code",
   "execution_count": 1,
   "metadata": {},
   "outputs": [
    {
     "name": "stdout",
     "output_type": "stream",
     "text": [
      "<class 'numpy.ndarray'>\n"
     ]
    }
   ],
   "source": [
    "#creating rank1 and rank2 elements using basic indexing by using built-in function to quickly and easily create ndarrays\n",
    "import numpy as np\n",
    "an_array = np.array([23,369,33664]) #create a rank1 array\n",
    "print(type(an_array))"
   ]
  },
  {
   "cell_type": "code",
   "execution_count": 2,
   "metadata": {},
   "outputs": [
    {
     "name": "stdout",
     "output_type": "stream",
     "text": [
      "(3,)\n"
     ]
    }
   ],
   "source": [
    "# test shape of the array we just created\n",
    "print(an_array.shape)"
   ]
  },
  {
   "cell_type": "code",
   "execution_count": 3,
   "metadata": {},
   "outputs": [
    {
     "name": "stdout",
     "output_type": "stream",
     "text": [
      "23 369 33664\n"
     ]
    }
   ],
   "source": [
    "#becoz this is an 1 rank array we need only one index to access each element\n",
    "print(an_array[0],an_array[1],an_array[2])"
   ]
  },
  {
   "cell_type": "code",
   "execution_count": 4,
   "metadata": {},
   "outputs": [
    {
     "name": "stdout",
     "output_type": "stream",
     "text": [
      "[ 2587   369 33664]\n"
     ]
    }
   ],
   "source": [
    "an_array[0] = 2587\n",
    "print (an_array)"
   ]
  },
  {
   "cell_type": "markdown",
   "metadata": {},
   "source": [
    "# How to create rank 2 numpy array\n",
    "A rank 2 array is one with two dimensions\n"
   ]
  },
  {
   "cell_type": "code",
   "execution_count": 5,
   "metadata": {},
   "outputs": [
    {
     "name": "stdout",
     "output_type": "stream",
     "text": [
      "[[  12  236 2345]\n",
      " [  25  698 4569]]\n",
      "This shape is 2 rows, 3 columns:  (2, 3)\n"
     ]
    }
   ],
   "source": [
    "a = np.array([[12,236,2345],[25,698,4569]]) #create rank 2 array\n",
    "print(a) #print an array\n",
    "\n",
    "print(\"This shape is 2 rows, 3 columns: \",a.shape) #rows * columns\n"
   ]
  },
  {
   "cell_type": "code",
   "execution_count": 6,
   "metadata": {},
   "outputs": [
    {
     "name": "stdout",
     "output_type": "stream",
     "text": [
      "[[0. 0.]\n",
      " [0. 0.]]\n"
     ]
    }
   ],
   "source": [
    "import numpy as np\n",
    "# create a 2*2 array of zeros\n",
    "exp = np.zeros((2,2))\n",
    "print (exp)"
   ]
  },
  {
   "cell_type": "code",
   "execution_count": 7,
   "metadata": {},
   "outputs": [
    {
     "name": "stdout",
     "output_type": "stream",
     "text": [
      "[[9. 9.]\n",
      " [9. 9.]]\n"
     ]
    }
   ],
   "source": [
    "import numpy as np\n",
    "# create a 2*2 array filled with 9.0\n",
    "exp = np.full((2,2),(9.0))\n",
    "print (exp)"
   ]
  },
  {
   "cell_type": "code",
   "execution_count": 8,
   "metadata": {},
   "outputs": [
    {
     "name": "stdout",
     "output_type": "stream",
     "text": [
      "[[1. 0.]\n",
      " [0. 1.]]\n"
     ]
    }
   ],
   "source": [
    "import numpy as np\n",
    "# create a 2*2 matrix with diagonal 1s and the other 0\n",
    "exp = np.eye(2,2)\n",
    "print (exp)"
   ]
  },
  {
   "cell_type": "code",
   "execution_count": 9,
   "metadata": {},
   "outputs": [
    {
     "name": "stdout",
     "output_type": "stream",
     "text": [
      "[[1. 0.]\n",
      " [0. 1.]]\n"
     ]
    }
   ],
   "source": [
    "import numpy as np\n",
    "# create a array of ones\n",
    "exp1 = np.ones((1,2))\n",
    "print (exp)"
   ]
  },
  {
   "cell_type": "code",
   "execution_count": 10,
   "metadata": {},
   "outputs": [
    {
     "name": "stdout",
     "output_type": "stream",
     "text": [
      "(1, 2)\n",
      "\n",
      "1.0\n"
     ]
    }
   ],
   "source": [
    "print (exp1.shape)\n",
    "print ()\n",
    "print (exp1[0,1])"
   ]
  },
  {
   "cell_type": "code",
   "execution_count": 11,
   "metadata": {},
   "outputs": [
    {
     "name": "stdout",
     "output_type": "stream",
     "text": [
      "[[0.91943503 0.9662021 ]\n",
      " [0.68563639 0.46994788]]\n"
     ]
    }
   ],
   "source": [
    "# create random numbers\n",
    "exp2 = np.random.random((2,2))\n",
    "print(exp2)"
   ]
  },
  {
   "cell_type": "markdown",
   "metadata": {},
   "source": [
    "# ndarray indexing"
   ]
  },
  {
   "cell_type": "code",
   "execution_count": 12,
   "metadata": {},
   "outputs": [
    {
     "name": "stdout",
     "output_type": "stream",
     "text": [
      "[[   12   256   369]\n",
      " [   14   278 23665]\n",
      " [   12   366  9587]]\n"
     ]
    }
   ],
   "source": [
    "#slice indexing\n",
    "import numpy as np\n",
    "an_array = np.array([[12,256,369],[14,278,23665],[12,366,9587]])\n",
    "print(an_array)"
   ]
  },
  {
   "cell_type": "code",
   "execution_count": 13,
   "metadata": {},
   "outputs": [
    {
     "name": "stdout",
     "output_type": "stream",
     "text": [
      "[[  256   369]\n",
      " [  278 23665]]\n"
     ]
    }
   ],
   "source": [
    "a_slice = an_array[:2,1:3]\n",
    "print(a_slice)"
   ]
  },
  {
   "cell_type": "code",
   "execution_count": 14,
   "metadata": {},
   "outputs": [
    {
     "name": "stdout",
     "output_type": "stream",
     "text": [
      "[[  256   369]\n",
      " [  278 23665]]\n"
     ]
    }
   ],
   "source": [
    "a_slice = np.array(an_array[:2, 1:3]) \n",
    "print(a_slice)"
   ]
  },
  {
   "cell_type": "code",
   "execution_count": 17,
   "metadata": {},
   "outputs": [
    {
     "name": "stdout",
     "output_type": "stream",
     "text": [
      "[[   14   278 23665]] (1, 3)\n"
     ]
    }
   ],
   "source": [
    "row_rank2 = an_array[1:2, :]\n",
    "print (row_rank2,row_rank2.shape)"
   ]
  },
  {
   "cell_type": "code",
   "execution_count": 18,
   "metadata": {},
   "outputs": [
    {
     "name": "stdout",
     "output_type": "stream",
     "text": [
      "\n",
      "[256 278 366] (3,)\n",
      "\n",
      "[[256]\n",
      " [278]\n",
      " [366]] (3, 1)\n"
     ]
    }
   ],
   "source": [
    "print()\n",
    "col_rank1 = an_array[:, 1]\n",
    "col_rank2 = an_array[:, 1:2]\n",
    "print (col_rank1,col_rank1.shape)\n",
    "print()\n",
    "print (col_rank2,col_rank2.shape)\n"
   ]
  },
  {
   "cell_type": "markdown",
   "metadata": {},
   "source": [
    "# Array indexing for changing elements"
   ]
  },
  {
   "cell_type": "code",
   "execution_count": 19,
   "metadata": {},
   "outputs": [
    {
     "name": "stdout",
     "output_type": "stream",
     "text": [
      "original array:\n",
      "[[  25  236  236]\n",
      " [ 236  369 3364]\n",
      " [2366 4869 6321]]\n"
     ]
    }
   ],
   "source": [
    "an_array = np.array([[25,236,236],[236,369,3364],[2366,4869,6321]])\n",
    "print(\"original array:\")\n",
    "print(an_array)"
   ]
  },
  {
   "cell_type": "code",
   "execution_count": 20,
   "metadata": {},
   "outputs": [
    {
     "name": "stdout",
     "output_type": "stream",
     "text": [
      "\n",
      "col indices picked : [0 1 2 0]\n",
      "\n",
      "Row indices picked : [0 1 2 3]\n"
     ]
    }
   ],
   "source": [
    "col_indices = np.array([0,1,2,0])\n",
    "print('\\ncol indices picked :',col_indices)\n",
    "\n",
    "row_indices = np.arange(4)\n",
    "print('\\nRow indices picked :',row_indices)"
   ]
  },
  {
   "cell_type": "code",
   "execution_count": 21,
   "metadata": {},
   "outputs": [
    {
     "name": "stdout",
     "output_type": "stream",
     "text": [
      "0 , 0\n",
      "1 , 1\n",
      "2 , 2\n",
      "3 , 0\n"
     ]
    }
   ],
   "source": [
    "#examine pair indices of row_indices and col_indices\n",
    "for row,col in zip(row_indices,col_indices):\n",
    "    print(row,\",\",col)"
   ]
  },
  {
   "cell_type": "markdown",
   "metadata": {},
   "source": [
    "# nd array boolen indexing\n",
    "## array indexing for changing element"
   ]
  },
  {
   "cell_type": "code",
   "execution_count": 22,
   "metadata": {},
   "outputs": [
    {
     "name": "stdout",
     "output_type": "stream",
     "text": [
      "[[26 36]\n",
      " [69 84]\n",
      " [97 53]]\n"
     ]
    }
   ],
   "source": [
    "an_array = np.array([[26,36],[69,84],[97,53]])\n",
    "print(an_array)"
   ]
  },
  {
   "cell_type": "code",
   "execution_count": 23,
   "metadata": {},
   "outputs": [
    {
     "data": {
      "text/plain": [
       "array([[ True,  True],\n",
       "       [ True,  True],\n",
       "       [ True,  True]])"
      ]
     },
     "execution_count": 23,
     "metadata": {},
     "output_type": "execute_result"
    }
   ],
   "source": [
    "filter = (an_array>15)\n",
    "filter"
   ]
  },
  {
   "cell_type": "code",
   "execution_count": 24,
   "metadata": {},
   "outputs": [
    {
     "name": "stdout",
     "output_type": "stream",
     "text": [
      "[26 36 69 84 97 53]\n"
     ]
    }
   ],
   "source": [
    "print(an_array[filter])"
   ]
  },
  {
   "cell_type": "code",
   "execution_count": 25,
   "metadata": {},
   "outputs": [
    {
     "data": {
      "text/plain": [
       "array([26, 36, 69, 84, 97, 53])"
      ]
     },
     "execution_count": 25,
     "metadata": {},
     "output_type": "execute_result"
    }
   ],
   "source": [
    "an_array[an_array>15]"
   ]
  },
  {
   "cell_type": "code",
   "execution_count": 26,
   "metadata": {},
   "outputs": [
    {
     "name": "stdout",
     "output_type": "stream",
     "text": [
      "[[126 136]\n",
      " [ 69 184]\n",
      " [ 97  53]]\n"
     ]
    }
   ],
   "source": [
    "an_array[an_array % 2 == 0] +=100\n",
    "print(an_array)"
   ]
  },
  {
   "cell_type": "markdown",
   "metadata": {},
   "source": [
    "# nd array data type and operations\n",
    "## Data types"
   ]
  },
  {
   "cell_type": "code",
   "execution_count": 27,
   "metadata": {
    "scrolled": true
   },
   "outputs": [
    {
     "name": "stdout",
     "output_type": "stream",
     "text": [
      "int64\n"
     ]
    }
   ],
   "source": [
    "a = np.array([26,69])\n",
    "print(a.dtype)"
   ]
  },
  {
   "cell_type": "code",
   "execution_count": 28,
   "metadata": {},
   "outputs": [
    {
     "name": "stdout",
     "output_type": "stream",
     "text": [
      "float64\n"
     ]
    }
   ],
   "source": [
    "a = np.array([26.3,69.69])\n",
    "print(a.dtype)"
   ]
  },
  {
   "cell_type": "code",
   "execution_count": 29,
   "metadata": {},
   "outputs": [
    {
     "name": "stdout",
     "output_type": "stream",
     "text": [
      "int64\n",
      "\n",
      "[26 69]\n"
     ]
    }
   ],
   "source": [
    "a = np.array([26.3,69.69], dtype =np.int64)\n",
    "print(a.dtype)\n",
    "print()\n",
    "print(a)"
   ]
  },
  {
   "cell_type": "markdown",
   "metadata": {},
   "source": [
    "# Arithmatic array operations"
   ]
  },
  {
   "cell_type": "code",
   "execution_count": 30,
   "metadata": {},
   "outputs": [
    {
     "name": "stdout",
     "output_type": "stream",
     "text": [
      "[[153 698]\n",
      " [897 632]]\n",
      "\n",
      "[[236.33   586.321 ]\n",
      " [896.366  854.1266]]\n"
     ]
    }
   ],
   "source": [
    "a = np.array([[153,698],[897,632]],dtype=np.int64)\n",
    "b = np.array([[236.33,586.321],[896.366,854.1266]],dtype=np.float64)\n",
    "print(a)\n",
    "print()\n",
    "print(b)"
   ]
  },
  {
   "cell_type": "code",
   "execution_count": 31,
   "metadata": {},
   "outputs": [
    {
     "name": "stdout",
     "output_type": "stream",
     "text": [
      "[[ 389.33   1284.321 ]\n",
      " [1793.366  1486.1266]]\n",
      "\n",
      "[[ 389.33   1284.321 ]\n",
      " [1793.366  1486.1266]]\n"
     ]
    }
   ],
   "source": [
    "print(a+b)\n",
    "print()\n",
    "print(np.add(a,b))"
   ]
  },
  {
   "cell_type": "markdown",
   "metadata": {},
   "source": [
    "# Like the above process we can do (\"-\",*,\"/\") and sqaure root also\n"
   ]
  },
  {
   "cell_type": "code",
   "execution_count": 32,
   "metadata": {},
   "outputs": [
    {
     "name": "stdout",
     "output_type": "stream",
     "text": [
      "[[12.36931688 26.41968963]\n",
      " [29.94995826 25.13961018]]\n"
     ]
    }
   ],
   "source": [
    "#sqaure root\n",
    "print(np.sqrt(a))"
   ]
  },
  {
   "cell_type": "code",
   "execution_count": 33,
   "metadata": {},
   "outputs": [
    {
     "name": "stdout",
     "output_type": "stream",
     "text": [
      "[[2.79934052e+066 1.37261382e+303]\n",
      " [            inf 2.97928852e+274]]\n"
     ]
    },
    {
     "name": "stderr",
     "output_type": "stream",
     "text": [
      "/home/prakash/.local/lib/python3.6/site-packages/ipykernel_launcher.py:2: RuntimeWarning: overflow encountered in exp\n",
      "  \n"
     ]
    }
   ],
   "source": [
    "#exponent(e**x)\n",
    "print(np.exp(a))"
   ]
  },
  {
   "cell_type": "markdown",
   "metadata": {},
   "source": [
    "# statistical methods, Sorting, and Set Operations :\n"
   ]
  },
  {
   "cell_type": "code",
   "execution_count": 34,
   "metadata": {},
   "outputs": [
    {
     "name": "stdout",
     "output_type": "stream",
     "text": [
      "[[ 3.1267841  -0.07646993 -5.88174823 -0.77611644  5.83221345]\n",
      " [ 2.87197243  0.94917023 -9.40042259  7.23505013 -0.92930927]\n",
      " [ 5.63602696 -4.33155691  0.43685448 12.27989731  4.50806159]]\n"
     ]
    }
   ],
   "source": [
    "arr = 10 * np.random.randn(3,5)\n",
    "print(arr)"
   ]
  },
  {
   "cell_type": "code",
   "execution_count": 35,
   "metadata": {},
   "outputs": [
    {
     "name": "stdout",
     "output_type": "stream",
     "text": [
      "1.432027153374168\n"
     ]
    }
   ],
   "source": [
    "#computing the off all elements\n",
    "print(arr.mean())"
   ]
  },
  {
   "cell_type": "code",
   "execution_count": 36,
   "metadata": {},
   "outputs": [
    {
     "name": "stdout",
     "output_type": "stream",
     "text": [
      "[0.44493259 0.14529219 3.70585669]\n"
     ]
    }
   ],
   "source": [
    "#computing the mean by row\n",
    "print(arr.mean(axis=1))"
   ]
  },
  {
   "cell_type": "code",
   "execution_count": 37,
   "metadata": {},
   "outputs": [
    {
     "name": "stdout",
     "output_type": "stream",
     "text": [
      "[ 3.87826116 -1.15295221 -4.94843878  6.246277    3.13698859]\n"
     ]
    }
   ],
   "source": [
    "#computing the mean by column\n",
    "print(arr.mean(axis=0))"
   ]
  },
  {
   "cell_type": "code",
   "execution_count": 38,
   "metadata": {},
   "outputs": [
    {
     "name": "stdout",
     "output_type": "stream",
     "text": [
      "21.48040730061252\n"
     ]
    }
   ],
   "source": [
    "#computing sum of all the elements\n",
    "print(arr.sum())"
   ]
  },
  {
   "cell_type": "markdown",
   "metadata": {},
   "source": [
    "# sorting"
   ]
  },
  {
   "cell_type": "code",
   "execution_count": 39,
   "metadata": {},
   "outputs": [
    {
     "name": "stdout",
     "output_type": "stream",
     "text": [
      "[ 0.66469398  0.65322391  0.588459    1.63536241 -0.1540327  -0.09123942\n",
      " -1.05897629 -0.05748362 -1.12491104  0.31928659  0.55464981  1.31563927\n",
      "  0.47422641 -1.56924761 -0.26990377  0.29821484 -0.97093883  1.55205515\n",
      " -0.82759337 -0.39873378]\n"
     ]
    }
   ],
   "source": [
    "unsorted = np.random.randn(20)\n",
    "print(unsorted)"
   ]
  },
  {
   "cell_type": "code",
   "execution_count": 40,
   "metadata": {},
   "outputs": [
    {
     "name": "stdout",
     "output_type": "stream",
     "text": [
      "[-1.56924761 -1.12491104 -1.05897629 -0.97093883 -0.82759337 -0.39873378\n",
      " -0.26990377 -0.1540327  -0.09123942 -0.05748362  0.29821484  0.31928659\n",
      "  0.47422641  0.55464981  0.588459    0.65322391  0.66469398  1.31563927\n",
      "  1.55205515  1.63536241]\n",
      "\n",
      "[ 0.66469398  0.65322391  0.588459    1.63536241 -0.1540327  -0.09123942\n",
      " -1.05897629 -0.05748362 -1.12491104  0.31928659  0.55464981  1.31563927\n",
      "  0.47422641 -1.56924761 -0.26990377  0.29821484 -0.97093883  1.55205515\n",
      " -0.82759337 -0.39873378]\n"
     ]
    }
   ],
   "source": [
    "sorted=np.array(unsorted)\n",
    "sorted.sort()\n",
    "print (sorted)\n",
    "print ()\n",
    "print (unsorted)"
   ]
  },
  {
   "cell_type": "code",
   "execution_count": 41,
   "metadata": {},
   "outputs": [
    {
     "name": "stdout",
     "output_type": "stream",
     "text": [
      "[-1.56924761 -1.12491104 -1.05897629 -0.97093883 -0.82759337 -0.39873378\n",
      " -0.26990377 -0.1540327  -0.09123942 -0.05748362  0.29821484  0.31928659\n",
      "  0.47422641  0.55464981  0.588459    0.65322391  0.66469398  1.31563927\n",
      "  1.55205515  1.63536241]\n"
     ]
    }
   ],
   "source": [
    "unsorted.sort()\n",
    "print(unsorted)"
   ]
  },
  {
   "cell_type": "markdown",
   "metadata": {},
   "source": [
    "# FINDING UNIQUE ELEMENTS"
   ]
  },
  {
   "cell_type": "code",
   "execution_count": 42,
   "metadata": {},
   "outputs": [
    {
     "name": "stdout",
     "output_type": "stream",
     "text": [
      "[ 1  2  4  6 35]\n"
     ]
    }
   ],
   "source": [
    "array=np.array([1,2,4,1,2,4,6,35,4])\n",
    "print(np.unique(array))"
   ]
  },
  {
   "cell_type": "markdown",
   "metadata": {},
   "source": [
    "# Set operations with np.array data type:"
   ]
  },
  {
   "cell_type": "code",
   "execution_count": 43,
   "metadata": {},
   "outputs": [
    {
     "name": "stdout",
     "output_type": "stream",
     "text": [
      "['laptop' 'book' 'pen'] ['pen' 'laptop' 'chair']\n"
     ]
    }
   ],
   "source": [
    "a=np.array(['laptop','book','pen'])\n",
    "b=np.array(['pen','laptop','chair'])\n",
    "print(a,b)"
   ]
  },
  {
   "cell_type": "code",
   "execution_count": 44,
   "metadata": {},
   "outputs": [
    {
     "name": "stdout",
     "output_type": "stream",
     "text": [
      "['laptop' 'pen']\n"
     ]
    }
   ],
   "source": [
    "print(np.intersect1d(a,b))"
   ]
  },
  {
   "cell_type": "code",
   "execution_count": 45,
   "metadata": {},
   "outputs": [
    {
     "name": "stdout",
     "output_type": "stream",
     "text": [
      "['book' 'chair' 'laptop' 'pen']\n"
     ]
    }
   ],
   "source": [
    "print(np.union1d(a,b))"
   ]
  },
  {
   "cell_type": "code",
   "execution_count": 46,
   "metadata": {},
   "outputs": [
    {
     "name": "stdout",
     "output_type": "stream",
     "text": [
      "['book']\n"
     ]
    }
   ],
   "source": [
    "print(np.setdiff1d(a,b)) #elements in a that are not in b"
   ]
  },
  {
   "cell_type": "code",
   "execution_count": 47,
   "metadata": {},
   "outputs": [
    {
     "name": "stdout",
     "output_type": "stream",
     "text": [
      "[ True False  True]\n"
     ]
    }
   ],
   "source": [
    "print(np.in1d(a,b)) #which elements of a and also in b"
   ]
  },
  {
   "cell_type": "markdown",
   "metadata": {},
   "source": [
    "# BROADCASTING"
   ]
  },
  {
   "cell_type": "code",
   "execution_count": 48,
   "metadata": {},
   "outputs": [
    {
     "name": "stdout",
     "output_type": "stream",
     "text": [
      "[[0. 0. 0.]\n",
      " [0. 0. 0.]]\n"
     ]
    }
   ],
   "source": [
    "import numpy as np\n",
    "start = np.zeros((2,3))\n",
    "print(start)"
   ]
  },
  {
   "cell_type": "code",
   "execution_count": 49,
   "metadata": {},
   "outputs": [
    {
     "name": "stdout",
     "output_type": "stream",
     "text": [
      "[7 2 9]\n"
     ]
    }
   ],
   "source": [
    "add_rows = np.array([7,2,9])\n",
    "print(add_rows)"
   ]
  },
  {
   "cell_type": "code",
   "execution_count": 50,
   "metadata": {},
   "outputs": [
    {
     "name": "stdout",
     "output_type": "stream",
     "text": [
      "[[7. 2. 9.]\n",
      " [7. 2. 9.]]\n"
     ]
    }
   ],
   "source": [
    "y = start + add_rows\n",
    "print(y)"
   ]
  },
  {
   "cell_type": "code",
   "execution_count": 51,
   "metadata": {},
   "outputs": [
    {
     "name": "stdout",
     "output_type": "stream",
     "text": [
      "[[0]\n",
      " [1]]\n"
     ]
    }
   ],
   "source": [
    "add_cols = np.array([[0,1]])\n",
    "add_cols = add_cols.T\n",
    "print(add_cols)"
   ]
  },
  {
   "cell_type": "code",
   "execution_count": 52,
   "metadata": {},
   "outputs": [
    {
     "name": "stdout",
     "output_type": "stream",
     "text": [
      "[[0. 0. 0.]\n",
      " [1. 1. 1.]]\n"
     ]
    }
   ],
   "source": [
    "y = start + add_cols\n",
    "print(y)"
   ]
  },
  {
   "cell_type": "code",
   "execution_count": 53,
   "metadata": {},
   "outputs": [
    {
     "name": "stdout",
     "output_type": "stream",
     "text": [
      "[[1. 1. 1.]\n",
      " [1. 1. 1.]]\n"
     ]
    }
   ],
   "source": [
    "add_scalar = np.array([1])\n",
    "print(start+add_scalar)"
   ]
  },
  {
   "cell_type": "code",
   "execution_count": 54,
   "metadata": {},
   "outputs": [
    {
     "name": "stdout",
     "output_type": "stream",
     "text": [
      "[[25 36 69]\n",
      " [58 63 98]\n",
      " [87 63 74]\n",
      " [86 23 62]]\n"
     ]
    }
   ],
   "source": [
    "arrA = np.array([[25,36,69],[58,63,98],[87,63,74],[86,23,62]])\n",
    "print(arrA)"
   ]
  },
  {
   "cell_type": "markdown",
   "metadata": {},
   "source": [
    "# SPEED TEST ndarray vs list"
   ]
  },
  {
   "cell_type": "code",
   "execution_count": 55,
   "metadata": {},
   "outputs": [],
   "source": [
    "from numpy import arange\n",
    "from timeit import Timer\n",
    "size = 1000000\n",
    "timeits = 1000"
   ]
  },
  {
   "cell_type": "code",
   "execution_count": 56,
   "metadata": {},
   "outputs": [
    {
     "name": "stdout",
     "output_type": "stream",
     "text": [
      "<class 'numpy.ndarray'>\n"
     ]
    }
   ],
   "source": [
    "nd_array = arange(size)\n",
    "print(type(nd_array))"
   ]
  },
  {
   "cell_type": "code",
   "execution_count": 57,
   "metadata": {},
   "outputs": [
    {
     "ename": "SyntaxError",
     "evalue": "invalid syntax (<timeit-src>, line 1)",
     "output_type": "error",
     "traceback": [
      "Traceback \u001b[0;36m(most recent call last)\u001b[0m:\n",
      "  File \u001b[1;32m\"/home/prakash/.local/lib/python3.6/site-packages/IPython/core/interactiveshell.py\"\u001b[0m, line \u001b[1;32m2961\u001b[0m, in \u001b[1;35mrun_code\u001b[0m\n    exec(code_obj, self.user_global_ns, self.user_ns)\n",
      "  File \u001b[1;32m\"<ipython-input-57-61b579f5f1bf>\"\u001b[0m, line \u001b[1;32m1\u001b[0m, in \u001b[1;35m<module>\u001b[0m\n    timer_numpy = Timer(\"nd_array.sum()\",\"from__main__import nd_array\")\n",
      "\u001b[0;36m  File \u001b[0;32m\"/usr/lib/python3.6/timeit.py\"\u001b[0;36m, line \u001b[0;32m111\u001b[0;36m, in \u001b[0;35m__init__\u001b[0;36m\u001b[0m\n\u001b[0;31m    compile(setup, dummy_src_name, \"exec\")\u001b[0m\n",
      "\u001b[0;36m  File \u001b[0;32m\"<timeit-src>\"\u001b[0;36m, line \u001b[0;32m1\u001b[0m\n\u001b[0;31m    from__main__import nd_array\u001b[0m\n\u001b[0m                              ^\u001b[0m\n\u001b[0;31mSyntaxError\u001b[0m\u001b[0;31m:\u001b[0m invalid syntax\n"
     ]
    }
   ],
   "source": [
    "timer_numpy = Timer(\"nd_array.sum()\",\"from__main__import nd_array\")\n",
    "\n",
    "print(\"Time taken by numpy ndarray: %f seconds\" % \n",
    "      (timer_numpy.timeit(timeits)/timeits))"
   ]
  },
  {
   "cell_type": "markdown",
   "metadata": {},
   "source": [
    "# a_list = list(arange(size))\n",
    "print(type(a_list))"
   ]
  },
  {
   "cell_type": "code",
   "execution_count": null,
   "metadata": {},
   "outputs": [],
   "source": [
    "timer_list = Timer(\"sum(a_list)\",\"from__main__import a_list\")\n",
    "print(\"Time taken by list: %fseconds\" %\n",
    "      (timer_list.timeit(timeits)/timeits))"
   ]
  },
  {
   "cell_type": "markdown",
   "metadata": {},
   "source": [
    "# TWitter Authentication"
   ]
  },
  {
   "cell_type": "code",
   "execution_count": 65,
   "metadata": {},
   "outputs": [],
   "source": [
    "import twitter\n",
    "import os\n",
    "import pickle"
   ]
  },
  {
   "cell_type": "code",
   "execution_count": 72,
   "metadata": {},
   "outputs": [
    {
     "ename": "EOFError",
     "evalue": "Ran out of input",
     "output_type": "error",
     "traceback": [
      "\u001b[0;31m---------------------------------------------------------------------------\u001b[0m",
      "\u001b[0;31mEOFError\u001b[0m                                  Traceback (most recent call last)",
      "\u001b[0;32m<ipython-input-72-e593e2419c1a>\u001b[0m in \u001b[0;36m<module>\u001b[0;34m()\u001b[0m\n\u001b[1;32m      8\u001b[0m         \u001b[0mpickle\u001b[0m\u001b[0;34m.\u001b[0m\u001b[0mdump\u001b[0m\u001b[0;34m(\u001b[0m\u001b[0mTwitter\u001b[0m\u001b[0;34m,\u001b[0m \u001b[0mf\u001b[0m\u001b[0;34m)\u001b[0m\u001b[0;34m\u001b[0m\u001b[0m\n\u001b[1;32m      9\u001b[0m \u001b[0;32melse\u001b[0m\u001b[0;34m:\u001b[0m\u001b[0;34m\u001b[0m\u001b[0m\n\u001b[0;32m---> 10\u001b[0;31m     \u001b[0mTwitter\u001b[0m\u001b[0;34m=\u001b[0m\u001b[0mpickle\u001b[0m\u001b[0;34m.\u001b[0m\u001b[0mload\u001b[0m\u001b[0;34m(\u001b[0m\u001b[0mopen\u001b[0m\u001b[0;34m(\u001b[0m\u001b[0;34m'secret_twitter_credentials.pkl'\u001b[0m\u001b[0;34m,\u001b[0m\u001b[0;34m'rb'\u001b[0m\u001b[0;34m)\u001b[0m\u001b[0;34m)\u001b[0m\u001b[0;34m\u001b[0m\u001b[0m\n\u001b[0m",
      "\u001b[0;31mEOFError\u001b[0m: Ran out of input"
     ]
    }
   ],
   "source": [
    "if  not os.path.exists('secret_twitter_credentials.pkl'):\n",
    "    Twitter={}\n",
    "    Twitter['Consumer key'] = ''\n",
    "    Twitter['Consumer Secret'] = ''\n",
    "    Twitter['Access Token'] = ''\n",
    "    Twitter['Access Token Secret'] = ''\n",
    "    with open('secret_twitter_credentials.pkl','wb') as f:\n",
    "        pickle.dump(Twitter, f)\n",
    "else:\n",
    "    Twitter=pickle.load(open('secret_twitter_credentials.pkl','rb'))"
   ]
  },
  {
   "cell_type": "code",
   "execution_count": 67,
   "metadata": {},
   "outputs": [
    {
     "ename": "KeyError",
     "evalue": "'Consumer Key'",
     "output_type": "error",
     "traceback": [
      "\u001b[0;31m---------------------------------------------------------------------------\u001b[0m",
      "\u001b[0;31mKeyError\u001b[0m                                  Traceback (most recent call last)",
      "\u001b[0;32m<ipython-input-67-9626506666cc>\u001b[0m in \u001b[0;36m<module>\u001b[0;34m()\u001b[0m\n\u001b[1;32m      1\u001b[0m auth = twitter.oauth.OAuth(Twitter['Access Token'],\n\u001b[1;32m      2\u001b[0m                            \u001b[0mTwitter\u001b[0m\u001b[0;34m[\u001b[0m\u001b[0;34m'Access Token Secret'\u001b[0m\u001b[0;34m]\u001b[0m\u001b[0;34m,\u001b[0m\u001b[0;34m\u001b[0m\u001b[0m\n\u001b[0;32m----> 3\u001b[0;31m                            \u001b[0mTwitter\u001b[0m\u001b[0;34m[\u001b[0m\u001b[0;34m'Consumer Key'\u001b[0m\u001b[0;34m]\u001b[0m\u001b[0;34m,\u001b[0m\u001b[0;34m\u001b[0m\u001b[0m\n\u001b[0m\u001b[1;32m      4\u001b[0m                            Twitter['Consumer Secret'])\n\u001b[1;32m      5\u001b[0m \u001b[0;34m\u001b[0m\u001b[0m\n",
      "\u001b[0;31mKeyError\u001b[0m: 'Consumer Key'"
     ]
    }
   ],
   "source": [
    "auth = twitter.oauth.OAuth(Twitter['Access Token'],\n",
    "                           Twitter['Access Token Secret'],\n",
    "                           Twitter['Consumer Key'],\n",
    "                           Twitter['Consumer Secret'])\n",
    "\n",
    "twitter_api = twitter.Twitter(auth = auth)\n",
    "\n",
    "print(twitter_api)\n"
   ]
  },
  {
   "cell_type": "code",
   "execution_count": null,
   "metadata": {},
   "outputs": [],
   "source": []
  }
 ],
 "metadata": {
  "kernelspec": {
   "display_name": "Python 3",
   "language": "python",
   "name": "python3"
  },
  "language_info": {
   "codemirror_mode": {
    "name": "ipython",
    "version": 3
   },
   "file_extension": ".py",
   "mimetype": "text/x-python",
   "name": "python",
   "nbconvert_exporter": "python",
   "pygments_lexer": "ipython3",
   "version": "3.7.1"
  }
 },
 "nbformat": 4,
 "nbformat_minor": 2
}
