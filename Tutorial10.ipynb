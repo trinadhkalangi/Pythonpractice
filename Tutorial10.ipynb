{
 "cells": [
  {
   "cell_type": "markdown",
   "metadata": {},
   "source": [
    " # if Statement in Python"
   ]
  },
  {
   "cell_type": "code",
   "execution_count": null,
   "metadata": {},
   "outputs": [],
   "source": [
    "if(Condition):\n",
    "    statement"
   ]
  },
  {
   "cell_type": "code",
   "execution_count": 1,
   "metadata": {},
   "outputs": [
    {
     "name": "stdout",
     "output_type": "stream",
     "text": [
      "Enter  the your marks?40\n",
      "You are passed\n"
     ]
    }
   ],
   "source": [
    "marks = int(input(\"Enter  the your marks?\"))\n",
    "if(marks>=35):\n",
    "    print(\"You are passed\")\n",
    "    "
   ]
  },
  {
   "cell_type": "code",
   "execution_count": 2,
   "metadata": {},
   "outputs": [
    {
     "name": "stdout",
     "output_type": "stream",
     "text": [
      "Enter  the your marks?25\n"
     ]
    }
   ],
   "source": [
    "marks = int(input(\"Enter  the your marks?\"))\n",
    "if(marks>=35):\n",
    "    print(\"You are passed\")"
   ]
  },
  {
   "cell_type": "code",
   "execution_count": 3,
   "metadata": {},
   "outputs": [
    {
     "name": "stdout",
     "output_type": "stream",
     "text": [
      "Enter  the your marks?35\n",
      "You are passed\n",
      "Congrats\n"
     ]
    }
   ],
   "source": [
    "marks = int(input(\"Enter  the your marks?\"))\n",
    "if(marks>=35):\n",
    "    print(\"You are passed\")\n",
    "    print(\"Congrats\")"
   ]
  },
  {
   "cell_type": "code",
   "execution_count": 4,
   "metadata": {},
   "outputs": [
    {
     "name": "stdout",
     "output_type": "stream",
     "text": [
      "Enter  the your marks?25\n",
      "Congrats\n"
     ]
    }
   ],
   "source": [
    "marks = int(input(\"Enter  the your marks?\"))\n",
    "if(marks>=35):\n",
    "    print(\"You are passed\")\n",
    "print(\"Congrats\")"
   ]
  },
  {
   "cell_type": "raw",
   "metadata": {},
   "source": [
    "if else "
   ]
  },
  {
   "cell_type": "code",
   "execution_count": 5,
   "metadata": {},
   "outputs": [
    {
     "name": "stdout",
     "output_type": "stream",
     "text": [
      "36\n",
      "pass\n"
     ]
    }
   ],
   "source": [
    "marks = int(input())\n",
    "if(marks>=35):\n",
    "    print(\"pass\")\n",
    "else:\n",
    "    print(\"Fail\")\n",
    "    \n"
   ]
  },
  {
   "cell_type": "code",
   "execution_count": 6,
   "metadata": {},
   "outputs": [
    {
     "name": "stdout",
     "output_type": "stream",
     "text": [
      "34\n",
      "Fail\n"
     ]
    }
   ],
   "source": [
    "marks = int(input())\n",
    "if(marks>=35):\n",
    "    print(\"pass\")\n",
    "else:\n",
    "    print(\"Fail\")"
   ]
  },
  {
   "cell_type": "code",
   "execution_count": null,
   "metadata": {},
   "outputs": [],
   "source": [
    "Elif \n",
    "\n",
    "0-34   ----D\n",
    "35-50  ----C\n",
    "50-70  ----B\n",
    "70-100 ----A"
   ]
  },
  {
   "cell_type": "code",
   "execution_count": 7,
   "metadata": {},
   "outputs": [
    {
     "name": "stdout",
     "output_type": "stream",
     "text": [
      "Enter the marks80\n",
      "A\n"
     ]
    }
   ],
   "source": [
    "marks = int(input(\"Enter the marks\"))\n",
    "\n",
    "if(0<marks<35):\n",
    "    print(\"D\")\n",
    "elif(35<=marks<50):\n",
    "    print(\"C\")\n",
    "elif(50<=marks<70):\n",
    "    print(\"B\")\n",
    "elif(70<=marks<=100):\n",
    "    print(\"A\")"
   ]
  },
  {
   "cell_type": "code",
   "execution_count": 8,
   "metadata": {},
   "outputs": [
    {
     "name": "stdout",
     "output_type": "stream",
     "text": [
      "Enter the marks25\n",
      "D\n"
     ]
    }
   ],
   "source": [
    "marks = int(input(\"Enter the marks\"))\n",
    "\n",
    "if(0<=marks<35):\n",
    "    print(\"D\")\n",
    "elif(35<=marks<50):\n",
    "    print(\"C\")\n",
    "elif(50<=marks<70):\n",
    "    print(\"B\")\n",
    "elif(70<=marks<=100):\n",
    "    print(\"A\")"
   ]
  },
  {
   "cell_type": "code",
   "execution_count": 9,
   "metadata": {},
   "outputs": [
    {
     "name": "stdout",
     "output_type": "stream",
     "text": [
      "Enter the marks0\n"
     ]
    }
   ],
   "source": [
    "marks = int(input(\"Enter the marks\"))\n",
    "\n",
    "if(0<marks<35):\n",
    "    print(\"D\")\n",
    "elif(35<=marks<50):\n",
    "    print(\"C\")\n",
    "elif(50<=marks<70):\n",
    "    print(\"B\")\n",
    "elif(70<=marks<=100):\n",
    "    print(\"A\")"
   ]
  },
  {
   "cell_type": "code",
   "execution_count": 10,
   "metadata": {},
   "outputs": [
    {
     "name": "stdout",
     "output_type": "stream",
     "text": [
      "Enter the marks0\n",
      "D\n"
     ]
    }
   ],
   "source": [
    "marks = int(input(\"Enter the marks\"))\n",
    "\n",
    "if(0<=marks<35):\n",
    "    print(\"D\")\n",
    "elif(35<=marks<50):\n",
    "    print(\"C\")\n",
    "elif(50<=marks<70):\n",
    "    print(\"B\")\n",
    "elif(70<=marks<=100):\n",
    "    print(\"A\")"
   ]
  },
  {
   "cell_type": "code",
   "execution_count": 11,
   "metadata": {},
   "outputs": [
    {
     "name": "stdout",
     "output_type": "stream",
     "text": [
      "Enter the marks101\n",
      "Enter the valid marks\n"
     ]
    }
   ],
   "source": [
    "marks = int(input(\"Enter the marks\"))\n",
    "\n",
    "if(0<marks<35):\n",
    "    print(\"D\")\n",
    "elif(35<=marks<50):\n",
    "    print(\"C\")\n",
    "elif(50<=marks<70):\n",
    "    print(\"B\")\n",
    "elif(70<=marks<=100):\n",
    "    print(\"A\")\n",
    "else:\n",
    "    print(\"Enter the valid marks\")"
   ]
  },
  {
   "cell_type": "code",
   "execution_count": 12,
   "metadata": {},
   "outputs": [
    {
     "name": "stdout",
     "output_type": "stream",
     "text": [
      "Enter the marks-25\n",
      "Enter the valid marks\n"
     ]
    }
   ],
   "source": [
    "marks = int(input(\"Enter the marks\"))\n",
    "\n",
    "if(0<marks<35):\n",
    "    print(\"D\")\n",
    "elif(35<=marks<50):\n",
    "    print(\"C\")\n",
    "elif(50<=marks<70):\n",
    "    print(\"B\")\n",
    "elif(70<=marks<=100):\n",
    "    print(\"A\")\n",
    "else:\n",
    "    print(\"Enter the valid marks\")"
   ]
  },
  {
   "cell_type": "code",
   "execution_count": null,
   "metadata": {},
   "outputs": [],
   "source": []
  }
 ],
 "metadata": {
  "kernelspec": {
   "display_name": "Python 3",
   "language": "python",
   "name": "python3"
  },
  "language_info": {
   "codemirror_mode": {
    "name": "ipython",
    "version": 3
   },
   "file_extension": ".py",
   "mimetype": "text/x-python",
   "name": "python",
   "nbconvert_exporter": "python",
   "pygments_lexer": "ipython3",
   "version": "3.8.2"
  }
 },
 "nbformat": 4,
 "nbformat_minor": 4
}
